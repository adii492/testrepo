{
 "cells": [
  {
   "cell_type": "markdown",
   "id": "31025fe3-0900-4cbe-a826-286a5ef2f95f",
   "metadata": {
    "tags": []
   },
   "source": [
    "<h1>Data Science tools an Ecosystem</h1>"
   ]
  },
  {
   "cell_type": "markdown",
   "id": "8efb539f-a319-4664-8526-2feb67d57f61",
   "metadata": {},
   "source": [
    "<p>In this notebook, Data Science Tools and Ecosystem are summarized.</p>"
   ]
  },
  {
   "cell_type": "markdown",
   "id": "2d1d2946-4b69-495f-b192-9c1a0b57d19f",
   "metadata": {},
   "source": [
    "<p>Some of the popular languages that Data Scientists use are:</p>\n",
    "<ol type=\"1\">\n",
    "    <li>Python</li>\n",
    "    <li>JavaScript</li>\n",
    "    <li>Scala</li>\n",
    "    <li>R</li>\n",
    "\n",
    "</ol>"
   ]
  },
  {
   "cell_type": "markdown",
   "id": "61da5755-905f-4ca3-8d1b-898dbca777d6",
   "metadata": {},
   "source": [
    "<p>Some of the commonly used libraries used by Data Scientists include:</p>\n",
    "<ol type = \"1\">\n",
    "    <li>TensorFlow</li>\n",
    "    <li>Numpy</li>\n",
    "    <li>Pandas</li>\n",
    "    <li>SciPy</li>\n",
    "</ol>"
   ]
  },
  {
   "cell_type": "markdown",
   "id": "bb8a954f-90db-4013-bc66-62398b9d1b5a",
   "metadata": {},
   "source": [
    "<p>Data Science tools</p>\n",
    "<table>\n",
    "    <tr>\n",
    "        <th>SR NO</th>\n",
    "        <th>Tool</th>\n",
    "    </tr>\n",
    "    <tr>\n",
    "        <td>1.</td>\n",
    "        <td>Apache Spark</td>\n",
    "    </tr>\n",
    "    <tr>\n",
    "        <td>2.</td>\n",
    "        <td>D3.js</td>\n",
    "    </tr>\n",
    "        <tr>\n",
    "        <td>2.</td>\n",
    "        <td> IBM SPSS</td>\n",
    "    </tr>\n",
    "</table> "
   ]
  },
  {
   "cell_type": "markdown",
   "id": "298b5c98-2aac-4894-a0af-7b08b09fa8ed",
   "metadata": {},
   "source": [
    "<h3>Below are a few examples of evaluating arithmetic expressions in Python.</h3>"
   ]
  },
  {
   "cell_type": "code",
   "execution_count": 2,
   "id": "318d73bc-20d2-4f82-840f-5a8a96754862",
   "metadata": {},
   "outputs": [],
   "source": [
    "#This a simple arithmetic expression to mutiply then add integers."
   ]
  },
  {
   "cell_type": "code",
   "execution_count": 3,
   "id": "e1888b1e-3455-422d-9520-b2a5eac77bef",
   "metadata": {},
   "outputs": [
    {
     "data": {
      "text/plain": [
       "30"
      ]
     },
     "execution_count": 3,
     "metadata": {},
     "output_type": "execute_result"
    }
   ],
   "source": [
    "(10+5)*2"
   ]
  },
  {
   "cell_type": "code",
   "execution_count": null,
   "id": "26070428-a610-4de9-82b7-c7f5a585cb48",
   "metadata": {},
   "outputs": [],
   "source": []
  },
  {
   "cell_type": "code",
   "execution_count": 7,
   "id": "c9bb7362-2e8f-4f53-bde0-59ab62f43825",
   "metadata": {},
   "outputs": [
    {
     "name": "stdout",
     "output_type": "stream",
     "text": [
      "the equivalant hours of min =  2.0\n"
     ]
    }
   ],
   "source": [
    "#This will convert 120 minutes to hours by diving by 60\n",
    "min = 120\n",
    "hr = min/60\n",
    "print(\"the equivalant hours of min = \", hr)"
   ]
  },
  {
   "cell_type": "markdown",
   "id": "f1b272df-2841-4e21-b04e-8cc852f0a006",
   "metadata": {},
   "source": [
    "<strong>Objectives</strong>\n",
    "<ul>\n",
    "    <li>List of popular languages used in data science</li>\n",
    "    <li>List of popular Libraries used in data science</li>\n",
    "    <li>Multiplication and addition operations</li>\n",
    "    <li>Conversion of min to hours</li>\n",
    "    <li>Objectives</li>\n",
    "</ul>"
   ]
  },
  {
   "cell_type": "markdown",
   "id": "ef2eb0fe-63dc-4637-9fac-68a8358834a4",
   "metadata": {},
   "source": [
    "<h2>Author</h2>\n",
    "<p>Aditya Lokhande</p>"
   ]
  },
  {
   "cell_type": "code",
   "execution_count": null,
   "id": "00bdeff0-6cf7-4fb2-ac29-3fac3af21398",
   "metadata": {},
   "outputs": [],
   "source": []
  }
 ],
 "metadata": {
  "kernelspec": {
   "display_name": "Python",
   "language": "python",
   "name": "conda-env-python-py"
  },
  "language_info": {
   "codemirror_mode": {
    "name": "ipython",
    "version": 3
   },
   "file_extension": ".py",
   "mimetype": "text/x-python",
   "name": "python",
   "nbconvert_exporter": "python",
   "pygments_lexer": "ipython3",
   "version": "3.7.12"
  }
 },
 "nbformat": 4,
 "nbformat_minor": 5
}
